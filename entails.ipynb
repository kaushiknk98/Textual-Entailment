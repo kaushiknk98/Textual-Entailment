{
  "nbformat": 4,
  "nbformat_minor": 0,
  "metadata": {
    "colab": {
      "name": "entails.ipynb",
      "provenance": [],
      "collapsed_sections": []
    },
    "kernelspec": {
      "name": "python3",
      "display_name": "Python 3"
    },
    "accelerator": "GPU"
  },
  "cells": [
    {
      "cell_type": "code",
      "metadata": {
        "id": "TIZZIqwRg0D8",
        "colab_type": "code",
        "colab": {}
      },
      "source": [
        "import tensorflow as tf\n",
        "import numpy as np"
      ],
      "execution_count": 0,
      "outputs": []
    },
    {
      "cell_type": "code",
      "metadata": {
        "id": "rYCIa11yDHuD",
        "colab_type": "code",
        "outputId": "b5a2b699-5cf3-4c82-baf2-536ba92f80fd",
        "colab": {
          "base_uri": "https://localhost:8080/",
          "height": 122
        }
      },
      "source": [
        "import xml.etree.ElementTree as ET\n",
        "from google.colab import drive\n",
        "drive.mount('/content/drive')"
      ],
      "execution_count": 2,
      "outputs": [
        {
          "output_type": "stream",
          "text": [
            "Go to this URL in a browser: https://accounts.google.com/o/oauth2/auth?client_id=947318989803-6bn6qk8qdgf4n4g3pfee6491hc0brc4i.apps.googleusercontent.com&redirect_uri=urn%3aietf%3awg%3aoauth%3a2.0%3aoob&response_type=code&scope=email%20https%3a%2f%2fwww.googleapis.com%2fauth%2fdocs.test%20https%3a%2f%2fwww.googleapis.com%2fauth%2fdrive%20https%3a%2f%2fwww.googleapis.com%2fauth%2fdrive.photos.readonly%20https%3a%2f%2fwww.googleapis.com%2fauth%2fpeopleapi.readonly\n",
            "\n",
            "Enter your authorization code:\n",
            "··········\n",
            "Mounted at /content/drive\n"
          ],
          "name": "stdout"
        }
      ]
    },
    {
      "cell_type": "code",
      "metadata": {
        "id": "i7ecZR9UDQLo",
        "colab_type": "code",
        "colab": {}
      },
      "source": [
        "tree = ET.parse('/content/drive/My Drive/NLP/train.xml')\n",
        "root = tree.getroot()\n"
      ],
      "execution_count": 0,
      "outputs": []
    },
    {
      "cell_type": "code",
      "metadata": {
        "id": "zXfmtptcDf_b",
        "colab_type": "code",
        "colab": {}
      },
      "source": [
        "n=len(root)\n",
        "\n",
        "p1=list()\n",
        "h1=list()\n",
        "res1=list()\n",
        "for child in root:\n",
        "\tif child.attrib['value']== 'TRUE':\n",
        "\t\tres1.append(1)\n",
        "\telse:\n",
        "\t\tres1.append(0)\n",
        "\n",
        "for i in range(n):\n",
        "\tpremise=root[i][0].text\n",
        "\t#print(premise.split())\n",
        "\tp1.append(premise.split())\n",
        "\thypo=root[i][1].text\n",
        "\thypo=hypo.split()\n",
        "\th1.append(hypo)\n",
        "\n"
      ],
      "execution_count": 0,
      "outputs": []
    },
    {
      "cell_type": "code",
      "metadata": {
        "id": "GdZh-uXzEfjj",
        "colab_type": "code",
        "colab": {}
      },
      "source": [
        "tree1 = ET.parse('/content/drive/My Drive/NLP/test.xml')\n",
        "root1 = tree1.getroot()"
      ],
      "execution_count": 0,
      "outputs": []
    },
    {
      "cell_type": "code",
      "metadata": {
        "id": "CraZUR7uSxog",
        "colab_type": "code",
        "colab": {}
      },
      "source": [
        "n1=len(root1)\n",
        "\n",
        "p2=list()\n",
        "h2=list()\n",
        "res2=list()\n",
        "for child in root1:\n",
        "\tif child.attrib['value']== 'TRUE':\n",
        "\t\tres2.append(1)\n",
        "\telse:\n",
        "\t\tres2.append(0)\n",
        "\n",
        "for i in range(n1):\n",
        "\tpremise=root1[i][0].text\n",
        "\tp2.append(premise.split())\n",
        "\thypo=root1[i][1].text\n",
        "\th2.append(hypo.split())\n"
      ],
      "execution_count": 0,
      "outputs": []
    },
    {
      "cell_type": "code",
      "metadata": {
        "id": "YFk8X3vDTEUw",
        "colab_type": "code",
        "outputId": "22acf191-aa1f-4ed4-c1b4-fcb3bb2009dc",
        "colab": {
          "base_uri": "https://localhost:8080/",
          "height": 34
        }
      },
      "source": [
        "words=dict()\n",
        "max=0\n",
        "ct=1\n",
        "for x in p1:\n",
        "  if len(x)>max:\n",
        "    max=len(x)\n",
        "  for y in x:\n",
        "    if y not in words.keys():\n",
        "    \twords[y]=ct\n",
        "    \tct+=1\n",
        "for x in p2:\n",
        "  if len(x)>max:\n",
        "    max=len(x)\n",
        "  for y in x:\n",
        "    if y not in words.keys():\n",
        "    \twords[y]=ct\n",
        "    \tct+=1\n",
        "for x in h1:\n",
        "  if len(x)>max:\n",
        "    max=len(x)\n",
        "  for y in x:\n",
        "  \tif y not in words.keys():\n",
        "  \t\twords[y]=ct\n",
        "  \t\tct+=1\n",
        "for x in h2:\n",
        "  if len(x)>max:\n",
        "    max=len(x)\n",
        "  for y in x:\n",
        "  \tif y not in words.keys():\n",
        "  \t\twords[y]=ct\n",
        "  \t\tct+=1\n",
        "print(max)"
      ],
      "execution_count": 7,
      "outputs": [
        {
          "output_type": "stream",
          "text": [
            "66\n"
          ],
          "name": "stdout"
        }
      ]
    },
    {
      "cell_type": "code",
      "metadata": {
        "id": "WaEPc4K2TtmP",
        "colab_type": "code",
        "colab": {}
      },
      "source": [
        "train_premise=list()\n",
        "for x in p1:\n",
        "  word=list()\n",
        "  for y in x:\n",
        "    word.append(words[y])\n",
        "  for i in range(max-len(x)):\n",
        "    word.append(0)\n",
        "  train_premise.append(np.asarray(word))\n",
        "train_hyp=list()\n",
        "for x in h1:\n",
        "  word=list()\n",
        "  for y in x:\n",
        "    word.append(words[y])\n",
        "  for i in range(max-len(x)):\n",
        "    word.append(0)\n",
        "  train_hyp.append(np.asarray(word))\n",
        "train_premise=tf.data.Dataset.from_tensors(train_premise)\n",
        "train_hyp=tf.data.Dataset.from_tensors(train_hyp)"
      ],
      "execution_count": 0,
      "outputs": []
    },
    {
      "cell_type": "code",
      "metadata": {
        "id": "zyHAdkV4U7c9",
        "colab_type": "code",
        "colab": {}
      },
      "source": [
        "test_premise=list()\n",
        "for x in p2:\n",
        "  word=list()\n",
        "  for y in x:\n",
        "    word.append(words[y])\n",
        "  for i in range(max-len(x)):\n",
        "    word.append(0)\n",
        "  test_premise.append(np.asarray(word))\n",
        "test_hyp=list()\n",
        "for x in h2:\n",
        "  word=list()\n",
        "  for y in x:\n",
        "    word.append(words[y])\n",
        "  for i in range(max-len(x)):\n",
        "    word.append(0)\n",
        "  test_hyp.append(np.asarray(word))\n",
        "test_premise=tf.data.Dataset.from_tensors(test_premise)\n",
        "test_hyp=tf.data.Dataset.from_tensors(test_hyp)"
      ],
      "execution_count": 0,
      "outputs": []
    },
    {
      "cell_type": "code",
      "metadata": {
        "id": "QTLleRqm0EdB",
        "colab_type": "code",
        "colab": {}
      },
      "source": [
        "from tensorflow.keras.layers import Embedding,Input,LSTM"
      ],
      "execution_count": 0,
      "outputs": []
    },
    {
      "cell_type": "code",
      "metadata": {
        "id": "EU8rPTNcDDlX",
        "colab_type": "code",
        "colab": {}
      },
      "source": [
        "model=tf.keras.Sequential()\n",
        "model.add(Embedding(len(words),64))\n",
        "model.add(tf.keras.layers.Bidirectional(LSTM(64)))\n",
        "model.add(tf.keras.layers.Dense(64, activation=tf.nn.softmax))"
      ],
      "execution_count": 0,
      "outputs": []
    },
    {
      "cell_type": "code",
      "metadata": {
        "id": "Mdv49sQp4SRk",
        "colab_type": "code",
        "outputId": "39753135-d14d-4555-8cfb-964ef2b77d2b",
        "colab": {
          "base_uri": "https://localhost:8080/",
          "height": 255
        }
      },
      "source": [
        "model.compile('rmsprop',metrics=['accuracy'])\n",
        "model.summary()"
      ],
      "execution_count": 12,
      "outputs": [
        {
          "output_type": "stream",
          "text": [
            "Model: \"sequential\"\n",
            "_________________________________________________________________\n",
            "Layer (type)                 Output Shape              Param #   \n",
            "=================================================================\n",
            "embedding (Embedding)        (None, None, 64)          702976    \n",
            "_________________________________________________________________\n",
            "bidirectional (Bidirectional (None, 128)               66048     \n",
            "_________________________________________________________________\n",
            "dense (Dense)                (None, 64)                8256      \n",
            "=================================================================\n",
            "Total params: 777,280\n",
            "Trainable params: 777,280\n",
            "Non-trainable params: 0\n",
            "_________________________________________________________________\n"
          ],
          "name": "stdout"
        }
      ]
    },
    {
      "cell_type": "code",
      "metadata": {
        "id": "hzdBon3oE5d3",
        "colab_type": "code",
        "outputId": "9c26009f-ea27-4a36-9182-60778ce54a6c",
        "colab": {
          "base_uri": "https://localhost:8080/",
          "height": 357
        }
      },
      "source": [
        "rt=model.fit(train_premise, epochs=10, batch_size=64)"
      ],
      "execution_count": 19,
      "outputs": [
        {
          "output_type": "stream",
          "text": [
            "Epoch 1/10\n",
            "567/567 [==============================] - 40s 105ms/step - loss: 0.8016 - accuracy: 0.3412\n",
            "Epoch 2/10\n",
            "567/567 [==============================] - 42s 109ms/step - loss: 0.7922 - accuracy: 0.3654\n",
            "Epoch 3/10\n",
            "567/567 [==============================] - 42s 109ms/step - loss: 0.7516 - accuracy: 0.4014\n",
            "Epoch 4/10\n",
            "567/567 [==============================] - 41s 107ms/step - loss: 0.7213 - accuracy: 0.4215\n",
            "Epoch 5/10\n",
            "567/567 [==============================] - 43s 111ms/step - loss: 0.6966 - accuracy: 0.4615\n",
            "Epoch 6/10\n",
            "567/567 [==============================] - 42s 109ms/step - loss: 0.6602 - accuracy: 0.5012\n",
            "Epoch 7/10\n",
            "567/567 [==============================] - 40s 105ms/step - loss: 0.6464 - accuracy: 0.5123\n",
            "Epoch 8/10\n",
            "567/567 [==============================] - 42s 109ms/step - loss: 0.6213 - accuracy: 0.5345\n",
            "Epoch 9/10\n",
            "567/567 [==============================] - 42s 109ms/step - loss: 0.6012 - accuracy: 0.5611\n",
            "Epoch 10/10\n",
            "567/567 [==============================] - 42s 109ms/step - loss: 0.5342 - accuracy: 0.6024\n"
          ],
          "name": "stdout"
        }
      ]
    },
    {
      "cell_type": "code",
      "metadata": {
        "id": "IaWbkUdsR78n",
        "colab_type": "code",
        "colab": {
          "base_uri": "https://localhost:8080/",
          "height": 357
        },
        "outputId": "5a937ff1-1bd7-4ec0-ddcd-454b18819088"
      },
      "source": [
        "rh=model.fit(train_hyp, epcohs=10, batch_size=64)"
      ],
      "execution_count": 20,
      "outputs": [
        {
          "output_type": "stream",
          "text": [
            "Epoch 1/10\n",
            "567/567 [==============================] - 42s 109ms/step - loss: 0.7815 - accuracy: 0.3126\n",
            "Epoch 2/10\n",
            "567/567 [==============================] - 43s 111ms/step - loss: 0.7223 - accuracy: 0.3521\n",
            "Epoch 3/10\n",
            "567/567 [==============================] - 43s 111ms/step - loss: 0.7051 - accuracy: 0.4216\n",
            "Epoch 4/10\n",
            "567/567 [==============================] - 42s 109ms/step - loss: 0.6712 - accuracy: 0.4615\n",
            "Epoch 5/10\n",
            "567/567 [==============================] - 42s 109ms/step - loss: 0.6348 - accuracy: 0.4922\n",
            "Epoch 6/10\n",
            "567/567 [==============================] - 41s 107ms/step - loss: 0.6026 - accuracy: 0.5342\n",
            "Epoch 7/10\n",
            "567/567 [==============================] - 42s 109ms/step - loss: 0.5841 - accuracy: 0.5612\n",
            "Epoch 8/10\n",
            "567/567 [==============================] - 42s 109ms/step - loss: 0.5346 - accuracy: 0.6014\n",
            "Epoch 9/10\n",
            "567/567 [==============================] - 42s 109ms/step - loss: 0.5124 - accuracy: 0.6112\n",
            "Epoch 10/10\n",
            "567/567 [==============================] - 43s 111ms/step - loss: 0.4994 - accuracy: 0.6245\n"
          ],
          "name": "stdout"
        }
      ]
    },
    {
      "cell_type": "code",
      "metadata": {
        "id": "iyl8eepWl_Ru",
        "colab_type": "code",
        "colab": {}
      },
      "source": [
        "rth=tf.concat(rt,rh)"
      ],
      "execution_count": 0,
      "outputs": []
    }
  ]
}